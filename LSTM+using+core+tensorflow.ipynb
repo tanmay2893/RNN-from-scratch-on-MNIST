{
 "cells": [
  {
   "cell_type": "code",
   "execution_count": 1,
   "metadata": {
    "collapsed": false
   },
   "outputs": [
    {
     "name": "stdout",
     "output_type": "stream",
     "text": [
      "Extracting MNIST_data/train-images-idx3-ubyte.gz\n",
      "Extracting MNIST_data/train-labels-idx1-ubyte.gz\n",
      "Extracting MNIST_data/t10k-images-idx3-ubyte.gz\n",
      "Extracting MNIST_data/t10k-labels-idx1-ubyte.gz\n"
     ]
    }
   ],
   "source": [
    "'''\n",
    "LSTM using core API- After 10,000 epochs for 50 hidden units - 85.18% accuracy for test set\n",
    "'''\n",
    "from tensorflow.examples.tutorials.mnist import input_data\n",
    "mnist = input_data.read_data_sets(\"MNIST_data/\",one_hot=True)"
   ]
  },
  {
   "cell_type": "code",
   "execution_count": 2,
   "metadata": {
    "collapsed": true
   },
   "outputs": [],
   "source": [
    "import tensorflow as tf"
   ]
  },
  {
   "cell_type": "code",
   "execution_count": 3,
   "metadata": {
    "collapsed": true
   },
   "outputs": [],
   "source": [
    "training_steps = 10000\n",
    "timesteps = 28\n",
    "num_input = 28\n",
    "bs = 128\n",
    "X = tf.placeholder(tf.float32, [None, timesteps, num_input])\n",
    "x = tf.unstack(X, timesteps, 1) #List of 28 timesteps of tensors of size (batch_size,28)\n",
    "y_ = tf.placeholder(tf.float32, [None, 10])"
   ]
  },
  {
   "cell_type": "code",
   "execution_count": 4,
   "metadata": {
    "collapsed": true
   },
   "outputs": [],
   "source": [
    "n_hidden = 50 #Hidden units of LSTM\n",
    "learning_rate = 0.001"
   ]
  },
  {
   "cell_type": "code",
   "execution_count": 5,
   "metadata": {
    "collapsed": false
   },
   "outputs": [],
   "source": [
    "'''\n",
    "Used Colah's blog terminology\n",
    "The final size of hidden states list will be timesteps+1 i.e. 29 (as we are using initial all_zero hidden state)\n",
    "'''\n",
    "with tf.device('/gpu:0'):\n",
    "    hidden_states = [tf.zeros([tf.shape(X)[0],n_hidden])] #all_zero hidden state\n",
    "    cell_states = [tf.zeros([tf.shape(X)[0],n_hidden])] #all_zero cell state\n",
    "    ft_hidden = [tf.Variable(tf.random_normal([n_hidden,n_hidden])) for i in range(28)] \n",
    "    ft_input = [tf.Variable(tf.random_normal([28,n_hidden])) for i in range(28)]\n",
    "    ft_bias = [tf.Variable(tf.random_normal([n_hidden])) for i in range(28)]\n",
    "    it_hidden = [tf.Variable(tf.random_normal([n_hidden,n_hidden])) for i in range(28)] \n",
    "    it_input = [tf.Variable(tf.random_normal([28,n_hidden])) for i in range(28)]\n",
    "    it_bias = [tf.Variable(tf.random_normal([n_hidden])) for i in range(28)]\n",
    "    candt_hidden = [tf.Variable(tf.random_normal([n_hidden,n_hidden])) for i in range(28)] \n",
    "    candt_input = [tf.Variable(tf.random_normal([28,n_hidden])) for i in range(28)]\n",
    "    candt_bias = [tf.Variable(tf.random_normal([n_hidden])) for i in range(28)]\n",
    "    ot_hidden = [tf.Variable(tf.random_normal([n_hidden,n_hidden])) for i in range(28)] \n",
    "    ot_input = [tf.Variable(tf.random_normal([28,n_hidden])) for i in range(28)]\n",
    "    ot_bias = [tf.Variable(tf.random_normal([n_hidden])) for i in range(28)]\n",
    "    #U_hidden = [tf.Variable(tf.random_normal([n_hidden,n_hidden])) for i in range(28)]\n",
    "    #W_input = [tf.Variable(tf.random_normal([28,n_hidden])) for i in range(28)]\n",
    "    W_output = [tf.Variable(tf.random_normal([n_hidden,10])) for i in range(28)]\n",
    "    #b = [tf.random_normal([n_hidden]) for i in range(28)]\n",
    "    Y_hidden=[]\n",
    "    for i in range(timesteps):\n",
    "        temp = tf.matmul(hidden_states[i], ft_hidden[i])\n",
    "        temp1 = tf.matmul(x[i],ft_input[i])\n",
    "        ft = tf.nn.sigmoid(temp+temp1+ft_bias[i])\n",
    "        temp = tf.matmul(hidden_states[i], it_hidden[i])\n",
    "        temp1 = tf.matmul(x[i],it_input[i])\n",
    "        it = tf.nn.sigmoid(temp+temp1+it_bias[i])\n",
    "        temp = tf.matmul(hidden_states[i], candt_hidden[i])\n",
    "        temp1 = tf.matmul(x[i],candt_input[i])\n",
    "        candt = tf.tanh(temp+temp1+candt_bias[i])\n",
    "        ct = ft*cell_states[i]+it*candt\n",
    "        temp = tf.matmul(hidden_states[i], ot_hidden[i])\n",
    "        temp1 = tf.matmul(x[i],ot_input[i])\n",
    "        ot = tf.nn.sigmoid(temp+temp1+ot_bias[i])\n",
    "        ht = ot*tf.tanh(ct)\n",
    "        Y_hidden.append(tf.matmul(ht,W_output[i]))\n",
    "        hidden_states.append(ht)\n",
    "        cell_states.append(ct)\n",
    "    final_weight = tf.Variable(tf.random_normal([n_hidden,10]))\n",
    "    final_bias = tf.Variable(tf.random_normal([10]))\n",
    "    # Linear activation, using rnn inner loop last output\n",
    "    logits = tf.matmul(hidden_states[-1],final_weight)+final_bias\n",
    "    y = tf.nn.softmax(logits)\n",
    "    cross_entropy = tf.reduce_mean(tf.nn.softmax_cross_entropy_with_logits(logits=logits, labels=y_))\n",
    "    optimizer = tf.train.RMSPropOptimizer(learning_rate=learning_rate)\n",
    "    train_step = optimizer.minimize(cross_entropy)\n",
    "    correct_pred = tf.equal(tf.argmax(y, 1), tf.argmax(y_, 1))\n",
    "    accuracy = tf.reduce_mean(tf.cast(correct_pred, tf.float32))"
   ]
  },
  {
   "cell_type": "code",
   "execution_count": 6,
   "metadata": {
    "collapsed": true
   },
   "outputs": [],
   "source": [
    "sess = tf.InteractiveSession()"
   ]
  },
  {
   "cell_type": "code",
   "execution_count": 7,
   "metadata": {
    "collapsed": true
   },
   "outputs": [],
   "source": [
    "tf.global_variables_initializer().run()"
   ]
  },
  {
   "cell_type": "code",
   "execution_count": 8,
   "metadata": {
    "collapsed": false
   },
   "outputs": [
    {
     "name": "stdout",
     "output_type": "stream",
     "text": [
      "1 - Loss = 3.6665 ,Accuracy = 0.0859375\n",
      "1000 - Loss = 1.46272 ,Accuracy = 0.460938\n",
      "2000 - Loss = 1.14258 ,Accuracy = 0.601562\n",
      "3000 - Loss = 0.753656 ,Accuracy = 0.734375\n",
      "4000 - Loss = 0.674512 ,Accuracy = 0.8125\n",
      "5000 - Loss = 0.563637 ,Accuracy = 0.757812\n",
      "6000 - Loss = 0.35161 ,Accuracy = 0.851562\n",
      "7000 - Loss = 0.252143 ,Accuracy = 0.875\n",
      "8000 - Loss = 0.249833 ,Accuracy = 0.921875\n",
      "9000 - Loss = 0.197601 ,Accuracy = 0.914062\n",
      "10000 - Loss = 0.192983 ,Accuracy = 0.9375\n"
     ]
    }
   ],
   "source": [
    "for step in range(1,training_steps+1):\n",
    "    batch_xs, batch_ys = mnist.train.next_batch(bs)\n",
    "    batch_xs = batch_xs.reshape((-1, 28, 28))\n",
    "    sess.run(train_step, feed_dict={X: batch_xs, y_: batch_ys})\n",
    "    if step%1000==0 or step==1:\n",
    "        loss, acc = sess.run([cross_entropy, accuracy], feed_dict={X: batch_xs,y_: batch_ys})\n",
    "        print(str(step)+\" - Loss = \"+str(loss)+\" ,Accuracy = \"+str(acc))"
   ]
  },
  {
   "cell_type": "code",
   "execution_count": 9,
   "metadata": {
    "collapsed": false
   },
   "outputs": [
    {
     "name": "stdout",
     "output_type": "stream",
     "text": [
      "Accuracy for test set: 0.8518\n"
     ]
    }
   ],
   "source": [
    "print(\"Accuracy for test set: \"+str(sess.run(accuracy, feed_dict={X: mnist.test.images.reshape([-1,timesteps,num_input]), y_: mnist.test.labels})))"
   ]
  }
 ],
 "metadata": {
  "kernelspec": {
   "display_name": "Python 3",
   "language": "python",
   "name": "python3"
  },
  "language_info": {
   "codemirror_mode": {
    "name": "ipython",
    "version": 3
   },
   "file_extension": ".py",
   "mimetype": "text/x-python",
   "name": "python",
   "nbconvert_exporter": "python",
   "pygments_lexer": "ipython3",
   "version": "3.6.0"
  }
 },
 "nbformat": 4,
 "nbformat_minor": 2
}
