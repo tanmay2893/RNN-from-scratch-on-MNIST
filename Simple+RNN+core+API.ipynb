{
 "cells": [
  {
   "cell_type": "code",
   "execution_count": 1,
   "metadata": {
    "collapsed": false
   },
   "outputs": [
    {
     "name": "stdout",
     "output_type": "stream",
     "text": [
      "Extracting MNIST_data/train-images-idx3-ubyte.gz\n",
      "Extracting MNIST_data/train-labels-idx1-ubyte.gz\n",
      "Extracting MNIST_data/t10k-images-idx3-ubyte.gz\n",
      "Extracting MNIST_data/t10k-labels-idx1-ubyte.gz\n"
     ]
    }
   ],
   "source": [
    "'''\n",
    "Simple RNN using tensorflow core API.\n",
    "After 130000 epochs, it gives test accuracy of 70.64%\n",
    "'''\n",
    "from tensorflow.examples.tutorials.mnist import input_data\n",
    "mnist = input_data.read_data_sets(\"MNIST_data/\",one_hot=True)"
   ]
  },
  {
   "cell_type": "code",
   "execution_count": 2,
   "metadata": {
    "collapsed": true
   },
   "outputs": [],
   "source": [
    "import tensorflow as tf"
   ]
  },
  {
   "cell_type": "code",
   "execution_count": 3,
   "metadata": {
    "collapsed": true
   },
   "outputs": [],
   "source": [
    "'''\n",
    "Get 28*28 dimensional image. Consider 28 timesteps of 28 long vector as input to RNN.\n",
    "'''\n",
    "timesteps = 28\n",
    "X = tf.placeholder(tf.float32, [None, 28, 28])   \n",
    "x = tf.unstack(X, timesteps, 1) #List of 28 timesteps of tensors of size (batch_size,28)\n",
    "y_ = tf.placeholder(tf.float32, [None, 10])"
   ]
  },
  {
   "cell_type": "code",
   "execution_count": 4,
   "metadata": {
    "collapsed": true
   },
   "outputs": [],
   "source": [
    "training_steps = 130000\n",
    "n_hidden = 50 #Number of hidden units in RNN\n",
    "learning_rate = 0.001 #Learning Rate of RMSprop\n",
    "bs = 128"
   ]
  },
  {
   "cell_type": "code",
   "execution_count": 5,
   "metadata": {
    "collapsed": false
   },
   "outputs": [],
   "source": [
    "'''\n",
    "The final length of hidden_states will be equal to timesteps+1 i.e. 29 because we have used all_zeros hidden state for initial\n",
    "step.\n",
    "'''\n",
    "with tf.device('/gpu:0'):\n",
    "    hidden_states = [tf.zeros([tf.shape(X)[0],n_hidden])]  #Initial hidden state of all zeros\n",
    "    U_hidden = [tf.Variable(tf.random_normal([n_hidden,n_hidden])) for i in range(28)] #Weight vector of hidden state\n",
    "    W_input = [tf.Variable(tf.random_normal([28,n_hidden])) for i in range(28)] #Weight vector of input \n",
    "    W_output = [tf.Variable(tf.random_normal([n_hidden,10])) for i in range(28)] #Weight vector for final output from hidden state\n",
    "    Y_hidden=[] #Vector of output vector\n",
    "    for i in range(timesteps):\n",
    "        temp = tf.matmul(hidden_states[i], U_hidden[i]) #U_hidden*h(t-1)\n",
    "        temp1 = tf.matmul(x[i],W_input[i])#W_input*x(t)\n",
    "        hs = tf.tanh(temp+temp1) #Hidden state\n",
    "        Y_hidden.append(tf.matmul(hs,W_output[i])) #append output to output vector\n",
    "        hidden_states.append(hs) #append hidden state to hidden_states\n",
    "    final_weight = tf.Variable(tf.random_normal([n_hidden,10])) #Final Weight vector to output layer\n",
    "    final_bias = tf.Variable(tf.random_normal([10]))  #Final Bias vector\n",
    "    # Linear activation, using rnn inner loop last output\n",
    "    logits = tf.matmul(hidden_states[-1],final_weight)+final_bias #Logits\n",
    "    y = tf.nn.softmax(logits) #Softmax of logits\n",
    "    cross_entropy = tf.reduce_mean(tf.nn.softmax_cross_entropy_with_logits(logits=logits, labels=y_)) #cross_entropy loss\n",
    "    optimizer = tf.train.RMSPropOptimizer(learning_rate=learning_rate) #RMSprop\n",
    "    train_step = optimizer.minimize(cross_entropy)\n",
    "    correct_pred = tf.equal(tf.argmax(y, 1), tf.argmax(y_, 1)) #correct predictions\n",
    "    accuracy = tf.reduce_mean(tf.cast(correct_pred, tf.float32)) #accuracy"
   ]
  },
  {
   "cell_type": "code",
   "execution_count": 6,
   "metadata": {
    "collapsed": true
   },
   "outputs": [],
   "source": [
    "sess = tf.InteractiveSession()"
   ]
  },
  {
   "cell_type": "code",
   "execution_count": 7,
   "metadata": {
    "collapsed": true
   },
   "outputs": [],
   "source": [
    "tf.global_variables_initializer().run()"
   ]
  },
  {
   "cell_type": "code",
   "execution_count": 8,
   "metadata": {
    "collapsed": false
   },
   "outputs": [
    {
     "name": "stdout",
     "output_type": "stream",
     "text": [
      "1 - Loss = 9.81963 ,Accuracy = 0.078125\n",
      "1000 - Loss = 4.60225 ,Accuracy = 0.101562\n",
      "2000 - Loss = 2.7198 ,Accuracy = 0.125\n",
      "3000 - Loss = 2.3697 ,Accuracy = 0.210938\n",
      "4000 - Loss = 2.11399 ,Accuracy = 0.265625\n",
      "5000 - Loss = 1.92657 ,Accuracy = 0.226562\n",
      "6000 - Loss = 1.77153 ,Accuracy = 0.335938\n",
      "7000 - Loss = 1.85083 ,Accuracy = 0.359375\n",
      "8000 - Loss = 1.6776 ,Accuracy = 0.414062\n",
      "9000 - Loss = 1.53131 ,Accuracy = 0.4375\n",
      "10000 - Loss = 1.60078 ,Accuracy = 0.351562\n",
      "11000 - Loss = 1.56431 ,Accuracy = 0.390625\n",
      "12000 - Loss = 1.55229 ,Accuracy = 0.4375\n",
      "13000 - Loss = 1.59606 ,Accuracy = 0.359375\n",
      "14000 - Loss = 1.55991 ,Accuracy = 0.429688\n",
      "15000 - Loss = 1.62629 ,Accuracy = 0.382812\n",
      "16000 - Loss = 1.37265 ,Accuracy = 0.523438\n",
      "17000 - Loss = 1.49696 ,Accuracy = 0.4375\n",
      "18000 - Loss = 1.49628 ,Accuracy = 0.460938\n",
      "19000 - Loss = 1.5675 ,Accuracy = 0.4375\n",
      "20000 - Loss = 1.52443 ,Accuracy = 0.429688\n",
      "21000 - Loss = 1.5831 ,Accuracy = 0.390625\n",
      "22000 - Loss = 1.32543 ,Accuracy = 0.492188\n",
      "23000 - Loss = 1.46398 ,Accuracy = 0.46875\n",
      "24000 - Loss = 1.3559 ,Accuracy = 0.476562\n",
      "25000 - Loss = 1.33299 ,Accuracy = 0.546875\n",
      "26000 - Loss = 1.45904 ,Accuracy = 0.492188\n",
      "27000 - Loss = 1.33975 ,Accuracy = 0.492188\n",
      "28000 - Loss = 1.2462 ,Accuracy = 0.515625\n",
      "29000 - Loss = 1.40881 ,Accuracy = 0.46875\n",
      "30000 - Loss = 1.36254 ,Accuracy = 0.523438\n",
      "31000 - Loss = 1.21691 ,Accuracy = 0.554688\n",
      "32000 - Loss = 1.3564 ,Accuracy = 0.539062\n",
      "33000 - Loss = 1.16599 ,Accuracy = 0.5625\n",
      "34000 - Loss = 1.28125 ,Accuracy = 0.5\n",
      "35000 - Loss = 1.23415 ,Accuracy = 0.5\n",
      "36000 - Loss = 1.19242 ,Accuracy = 0.617188\n",
      "37000 - Loss = 1.28898 ,Accuracy = 0.523438\n",
      "38000 - Loss = 1.20695 ,Accuracy = 0.578125\n",
      "39000 - Loss = 1.06611 ,Accuracy = 0.585938\n",
      "40000 - Loss = 1.27569 ,Accuracy = 0.546875\n",
      "41000 - Loss = 1.05694 ,Accuracy = 0.640625\n",
      "42000 - Loss = 1.08042 ,Accuracy = 0.632812\n",
      "43000 - Loss = 1.18448 ,Accuracy = 0.648438\n",
      "44000 - Loss = 1.07996 ,Accuracy = 0.640625\n",
      "45000 - Loss = 1.10878 ,Accuracy = 0.609375\n",
      "46000 - Loss = 1.24241 ,Accuracy = 0.539062\n",
      "47000 - Loss = 1.23722 ,Accuracy = 0.53125\n",
      "48000 - Loss = 1.25511 ,Accuracy = 0.59375\n",
      "49000 - Loss = 1.13268 ,Accuracy = 0.601562\n",
      "50000 - Loss = 1.15329 ,Accuracy = 0.617188\n",
      "51000 - Loss = 1.06295 ,Accuracy = 0.601562\n",
      "52000 - Loss = 1.09429 ,Accuracy = 0.648438\n",
      "53000 - Loss = 1.08997 ,Accuracy = 0.640625\n",
      "54000 - Loss = 0.965373 ,Accuracy = 0.625\n",
      "55000 - Loss = 1.2535 ,Accuracy = 0.570312\n",
      "56000 - Loss = 1.18752 ,Accuracy = 0.507812\n",
      "57000 - Loss = 1.20102 ,Accuracy = 0.5625\n",
      "58000 - Loss = 1.09905 ,Accuracy = 0.648438\n",
      "59000 - Loss = 1.07904 ,Accuracy = 0.625\n",
      "60000 - Loss = 0.90775 ,Accuracy = 0.671875\n"
     ]
    }
   ],
   "source": [
    "for step in range(1,training_steps+1):\n",
    "    batch_xs, batch_ys = mnist.train.next_batch(bs)\n",
    "    batch_xs = batch_xs.reshape((bs, 28, 28))\n",
    "    sess.run(train_step, feed_dict={X: batch_xs, y_: batch_ys})\n",
    "    if step%1000==0 or step == 1:\n",
    "        loss, acc = sess.run([cross_entropy, accuracy], feed_dict={X: batch_xs,y_: batch_ys})\n",
    "        print(str(step)+\" - Loss = \"+str(loss)+\" ,Accuracy = \"+str(acc))"
   ]
  },
  {
   "cell_type": "code",
   "execution_count": 13,
   "metadata": {
    "collapsed": false
   },
   "outputs": [
    {
     "name": "stdout",
     "output_type": "stream",
     "text": [
      "Accuracy for test set: 0.7064\n"
     ]
    }
   ],
   "source": [
    "print(\"Accuracy for test set: \"+str(sess.run(accuracy, feed_dict={X: mnist.test.images.reshape([mnist.test.images.shape[0],28,28]), y_: mnist.test.labels})))"
   ]
  },
  {
   "cell_type": "code",
   "execution_count": null,
   "metadata": {
    "collapsed": true
   },
   "outputs": [],
   "source": []
  },
  {
   "cell_type": "code",
   "execution_count": null,
   "metadata": {
    "collapsed": true
   },
   "outputs": [],
   "source": []
  },
  {
   "cell_type": "code",
   "execution_count": null,
   "metadata": {
    "collapsed": true
   },
   "outputs": [],
   "source": []
  },
  {
   "cell_type": "code",
   "execution_count": null,
   "metadata": {
    "collapsed": true
   },
   "outputs": [],
   "source": []
  },
  {
   "cell_type": "code",
   "execution_count": null,
   "metadata": {
    "collapsed": true
   },
   "outputs": [],
   "source": []
  },
  {
   "cell_type": "code",
   "execution_count": null,
   "metadata": {
    "collapsed": true
   },
   "outputs": [],
   "source": []
  }
 ],
 "metadata": {
  "kernelspec": {
   "display_name": "Python 3",
   "language": "python",
   "name": "python3"
  },
  "language_info": {
   "codemirror_mode": {
    "name": "ipython",
    "version": 3
   },
   "file_extension": ".py",
   "mimetype": "text/x-python",
   "name": "python",
   "nbconvert_exporter": "python",
   "pygments_lexer": "ipython3",
   "version": "3.6.0"
  }
 },
 "nbformat": 4,
 "nbformat_minor": 2
}
